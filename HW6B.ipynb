{
 "cells": [
  {
   "cell_type": "markdown",
   "metadata": {},
   "source": [
    "## HW6b - Loops, Plots, Stats, and Data Analysis"
   ]
  },
  {
   "cell_type": "markdown",
   "metadata": {},
   "source": [
    "### Problem 1: Gravity Drained Tanks"
   ]
  },
  {
   "cell_type": "markdown",
   "metadata": {},
   "source": [
    "Cylindrical dual gravity drained tanks with a constant cross sectional area ($A_c=2 m^2$) and maximum height of 1 $m$. If the tank overfills, the excess fluid is lost. There is an inlet flow $q_{in}$, an intermediate outlet flow from tank 1 to tank 2 as $q_{out1}$, and a final outlet flow as $q_{out2}$. \n",
    "\n",
    "<img width=\"30%\" src='https://apmonitor.com/pdc/uploads/Main/2tank_schematic.png'>\n",
    "\n",
    "All flows are in units of $m^3/hr$ and heights are reported in units of $m$.\n",
    "A mass balance on each tank is used to derive the following equations that relate inlet flow to the height of the tanks.\n",
    "\n",
    "$A_c \\frac{dh_1}{dt}=q_{in}-q_{out1}$\n",
    "\n",
    "$A_c \\frac{dh_2}{dt}=q_{out1}-q_{out2}$\n",
    "\n",
    "The outlet flow rate for each tank depends on the height in the tank according to Bernoulli’s equation for incompressible fluids as:\n",
    "\n",
    "$q_{out1}=c_1 \\sqrt{h_1}$\n",
    "\n",
    "$q_{out2}=c_2 \\sqrt{h_2}$\n",
    "\n",
    "The tanks are initially empty when the inlet to tank 1 starts to flow at a rate of 0.5 $m^3/hr$.\n",
    "\n",
    "Solve for the heights ($h_1$ and $h_2$) as functions of time with $c_1$=0.13 and $c_2$=0.20. Use a timestep size of dt=0.5 $hr$ and solve up until a final time of t=10 $hr$. \n",
    "\n",
    "Plot the predicted heights $h_1$ and $h_2$ as functions of time on the same plot.  Label the axes as ```time (h)``` and ```height (m)```.\n",
    "\n",
    "Hint: use an explicit Euler's equation applied to each $\\frac{dh}{dt}$ above: $\\frac{dh}{dt} = f(h,t)$\n",
    "\n",
    "$h_{n+1} = h{n} + dt \\, f(h_n,t_n)$\n",
    "\n",
    "Don’t forget to add an IF statement to check for overfill conditions such as:\n",
    "\n",
    "    if (height[i]>=1.0 and dheight_dt>=0):\n",
    "        height[i+1] = 1.0\n",
    "    else:\n",
    "        height[i+1] = height[i] + dt * ( f(height[i], qin, qout1) )"
   ]
  },
  {
   "cell_type": "code",
   "execution_count": 38,
   "metadata": {
    "scrolled": true
   },
   "outputs": [
    {
     "data": {
      "image/png": "[encoded data removed]",
      "text/plain": [
       "<Figure size 432x288 with 1 Axes>"
      ]
     },
     "metadata": {
      "needs_background": "light"
     },
     "output_type": "display_data"
    }
   ],
   "source": [
    "import numpy as np\n",
    "import matplotlib.pyplot as plt\n",
    "\n",
    "def tank(c1,c2):\n",
    "  Ac = 2 #constant Cross sectional area\n",
    "  qin = 0.5 #Inlet Flow\n",
    "  dt = 0.5  #timestep size\n",
    "  tf = 10.0 #final time\n",
    "  h1 = 0 #height of Tank1\n",
    "  h2 = 0 #height of tank2\n",
    "  t = 0 #time\n",
    "  ts = np.empty(21) #timestep\n",
    "  h1s = np.empty(21) #tank1 height at time\n",
    "  h2s = np.empty(21) #tank2 height at time\n",
    "  i = 0 #integer for while loop\n",
    "\n",
    "  while t<=10.0:\n",
    "     ts[i] = t #Change in time\n",
    "     h1s[i] = h1 #Change in height 1\n",
    "     h2s[i] = h2 #change in height 2 \n",
    "\n",
    "     qout1 = c1 * pow(h1,0.5) #outflow 1\n",
    "     qout2 = c2 * pow(h2,0.5) #outflow 2\n",
    "     h1 = (qin-qout1)*dt/Ac + h1\n",
    "     if h1>1: #check overfow conditions\n",
    "        h1 = 1\n",
    "     h2 = (qout1-qout2)*dt/Ac + h2\n",
    "     i = i + 1\n",
    "     t = t + dt\n",
    "\n",
    "  plt.plot(ts,h1s, label=\"Height of Tank 1\")\n",
    "  plt.plot(ts,h2s, label=\"Height of Tank 2\")\n",
    "  plt.xlabel(\"Time (h)\")\n",
    "  plt.ylabel(\"Height (m)\")\n",
    "  plt.legend()\n",
    "\n",
    "tank(0.13,0.20)"
   ]
  },
  {
   "cell_type": "code",
   "execution_count": 37,
   "metadata": {},
   "outputs": [
    {
     "data": {
      "image/png": "[encoded data removed]",
      "text/plain": [
       "<Figure size 432x288 with 1 Axes>"
      ]
     },
     "metadata": {
      "needs_background": "light"
     },
     "output_type": "display_data"
    }
   ],
   "source": [
    "import numpy as np\n",
    "import matplotlib.pyplot as plt\n",
    "\n",
    "def tank(c1,c2):\n",
    "  Ac = 2 #constant Cross sectional area\n",
    "  qin = 0.5 #Inlet Flow\n",
    "  dt = 0.5  #timestep size\n",
    "  tf = 10.0 #final time\n",
    "  h1 = 0 #height of Tank1\n",
    "  h2 = 0 #height of tank2\n",
    "  t = 0 #time\n",
    "  ts = np.empty(21) #timestep\n",
    "  h1s = np.empty(21) #tank1 height at time\n",
    "  h2s = np.empty(21) #tank2 height at time\n",
    "  i = 0 #integer for while loop\n",
    "\n",
    "  while t<=10.0:\n",
    "     ts[i] = t #Change in time\n",
    "     h1s[i] = h1 #Change in height 1\n",
    "     h2s[i] = h2 #change in height 2 \n",
    "\n",
    "     qout1 = c1 * pow(h1,0.5) #outflow 1\n",
    "     qout2 = c2 * pow(h2,0.5) #outflow 2\n",
    "     h1 = (qin-qout1)*dt/Ac + h1\n",
    "     if h1>1: #check overfow conditions\n",
    "        h1 = 1\n",
    "     h2 = (qout1-qout2)*dt/Ac + h2\n",
    "     i = i + 1\n",
    "     t = t + dt\n",
    "\n",
    "  plt.bar(ts,h1s, label=\"Height of Tank 1\")\n",
    "  plt.bar(ts,h2s, label=\"Height of Tank 2\")\n",
    "  plt.xlabel(\"Time (h)\")\n",
    "  plt.ylabel(\"Height (m)\")\n",
    "  plt.legend()\n",
    "\n",
    "tank(0.13,0.20)"
   ]
  },
  {
   "cell_type": "code",
   "execution_count": null,
   "metadata": {},
   "outputs": [],
   "source": []
  },
  {
   "cell_type": "code",
   "execution_count": null,
   "metadata": {},
   "outputs": [],
   "source": []
  }
 ],
 "metadata": {
  "kernelspec": {
   "display_name": "Python 3",
   "language": "python",
   "name": "python3"
  },
  "language_info": {
   "codemirror_mode": {
    "name": "ipython",
    "version": 3
   },
   "file_extension": ".py",
   "mimetype": "text/x-python",
   "name": "python",
   "nbconvert_exporter": "python",
   "pygments_lexer": "ipython3",
   "version": "3.7.4"
  }
 },
 "nbformat": 4,
 "nbformat_minor": 2
}